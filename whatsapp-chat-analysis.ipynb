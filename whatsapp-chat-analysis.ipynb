{
 "cells": [
  {
   "cell_type": "code",
   "execution_count": 1,
   "id": "6b8c2509",
   "metadata": {},
   "outputs": [],
   "source": [
    "# import required libraries\n",
    "import re\n",
    "import numpy as np\n",
    "import pandas as pd\n",
    "import warnings\n",
    "warnings.filterwarnings(action='ignore')"
   ]
  },
  {
   "cell_type": "code",
   "execution_count": 2,
   "id": "81ae6345",
   "metadata": {},
   "outputs": [],
   "source": [
    "# import data [Exported whatsapp chat in .txt format]\n",
    "f = open(file='WhatsApp Chat with CRICKET🏏.txt', mode='r', encoding='utf-8')"
   ]
  },
  {
   "cell_type": "code",
   "execution_count": 3,
   "id": "32c71923",
   "metadata": {},
   "outputs": [],
   "source": [
    "# store file information into an variable\n",
    "data = f.read()"
   ]
  },
  {
   "cell_type": "code",
   "execution_count": 4,
   "id": "5a7c35f8",
   "metadata": {},
   "outputs": [],
   "source": [
    "# print(data)"
   ]
  },
  {
   "cell_type": "code",
   "execution_count": 5,
   "id": "9b936dd9",
   "metadata": {},
   "outputs": [],
   "source": [
    "pattern = '\\d{2}/\\d{2}/\\d{2}, \\d{1,2}:\\d{2}\\s*[ap]m\\s*-\\s'"
   ]
  },
  {
   "cell_type": "code",
   "execution_count": 6,
   "id": "26fc973f",
   "metadata": {},
   "outputs": [
    {
     "data": {
      "text/plain": [
       "707"
      ]
     },
     "execution_count": 6,
     "metadata": {},
     "output_type": "execute_result"
    }
   ],
   "source": [
    "message = re.split(pattern=pattern, string=data)[3:]\n",
    "#print(message)\n",
    "len(message)"
   ]
  },
  {
   "cell_type": "code",
   "execution_count": 7,
   "id": "f8fb7b32",
   "metadata": {},
   "outputs": [],
   "source": [
    "dates = re.findall(pattern=pattern, string=data)[2:]\n",
    "#print(dates)\n",
    "#print(len(dates))"
   ]
  },
  {
   "cell_type": "code",
   "execution_count": 8,
   "id": "ac8eaabb",
   "metadata": {},
   "outputs": [],
   "source": [
    "df = pd.DataFrame({'user_message':message, 'message_date':dates})"
   ]
  },
  {
   "cell_type": "code",
   "execution_count": 9,
   "id": "4c27ce14",
   "metadata": {},
   "outputs": [
    {
     "data": {
      "text/plain": [
       "pandas.core.series.Series"
      ]
     },
     "execution_count": 9,
     "metadata": {},
     "output_type": "execute_result"
    }
   ],
   "source": [
    "type(df['message_date']) # type caste it into datetime"
   ]
  },
  {
   "cell_type": "code",
   "execution_count": 10,
   "id": "3174e56d",
   "metadata": {},
   "outputs": [],
   "source": [
    "# clean the 'message_data' column to replace non-breaking spaces\n",
    "df['message_date'] = df['message_date'].str.replace('\\u202f', ' ')"
   ]
  },
  {
   "cell_type": "code",
   "execution_count": 11,
   "id": "5018cda9",
   "metadata": {},
   "outputs": [],
   "source": [
    "# Remove the trailing '- ' from the date strings\n",
    "df['message_date'] = df['message_date'].str.strip(' -')"
   ]
  },
  {
   "cell_type": "code",
   "execution_count": 12,
   "id": "e5cc3514",
   "metadata": {},
   "outputs": [
    {
     "data": {
      "text/plain": [
       "0      08/09/23, 7:22 pm\n",
       "1      08/09/23, 7:22 pm\n",
       "2      13/09/23, 6:07 pm\n",
       "3      13/09/23, 6:09 pm\n",
       "4      13/09/23, 6:12 pm\n",
       "             ...        \n",
       "702    29/08/24, 1:54 pm\n",
       "703    29/08/24, 2:18 pm\n",
       "704    29/08/24, 2:30 pm\n",
       "705    29/08/24, 2:31 pm\n",
       "706    29/08/24, 3:43 pm\n",
       "Name: message_date, Length: 707, dtype: object"
      ]
     },
     "execution_count": 12,
     "metadata": {},
     "output_type": "execute_result"
    }
   ],
   "source": [
    "df['message_date']"
   ]
  },
  {
   "cell_type": "code",
   "execution_count": 13,
   "id": "348c143a",
   "metadata": {},
   "outputs": [],
   "source": [
    "df['message_date'] = pd.to_datetime(df['message_date'], format='%d/%m/%y, %I:%M %p')"
   ]
  },
  {
   "cell_type": "code",
   "execution_count": 14,
   "id": "55c76a15",
   "metadata": {},
   "outputs": [],
   "source": [
    "df.rename(columns={'message_date':'date'}, inplace=True)"
   ]
  },
  {
   "cell_type": "code",
   "execution_count": 15,
   "id": "c702558b",
   "metadata": {},
   "outputs": [
    {
     "data": {
      "text/html": [
       "<div>\n",
       "<style scoped>\n",
       "    .dataframe tbody tr th:only-of-type {\n",
       "        vertical-align: middle;\n",
       "    }\n",
       "\n",
       "    .dataframe tbody tr th {\n",
       "        vertical-align: top;\n",
       "    }\n",
       "\n",
       "    .dataframe thead th {\n",
       "        text-align: right;\n",
       "    }\n",
       "</style>\n",
       "<table border=\"1\" class=\"dataframe\">\n",
       "  <thead>\n",
       "    <tr style=\"text-align: right;\">\n",
       "      <th></th>\n",
       "      <th>user_message</th>\n",
       "      <th>date</th>\n",
       "    </tr>\n",
       "  </thead>\n",
       "  <tbody>\n",
       "    <tr>\n",
       "      <th>0</th>\n",
       "      <td>Bambaya: &lt;Media omitted&gt;\\n</td>\n",
       "      <td>2023-09-08 19:22:00</td>\n",
       "    </tr>\n",
       "    <tr>\n",
       "      <th>1</th>\n",
       "      <td>Bambaya: 🏏 Aranyam cricket buffet 🇮🇳🇵🇰\\n\\n🏏 In...</td>\n",
       "      <td>2023-09-08 19:22:00</td>\n",
       "    </tr>\n",
       "    <tr>\n",
       "      <th>2</th>\n",
       "      <td>Tarun Pandey: &lt;Media omitted&gt;\\n</td>\n",
       "      <td>2023-09-13 18:07:00</td>\n",
       "    </tr>\n",
       "    <tr>\n",
       "      <th>3</th>\n",
       "      <td>Toofan Express: Chlo\\n</td>\n",
       "      <td>2023-09-13 18:09:00</td>\n",
       "    </tr>\n",
       "    <tr>\n",
       "      <th>4</th>\n",
       "      <td>Tushar Shukla: You deleted this message\\n</td>\n",
       "      <td>2023-09-13 18:12:00</td>\n",
       "    </tr>\n",
       "  </tbody>\n",
       "</table>\n",
       "</div>"
      ],
      "text/plain": [
       "                                        user_message                date\n",
       "0                         Bambaya: <Media omitted>\\n 2023-09-08 19:22:00\n",
       "1  Bambaya: 🏏 Aranyam cricket buffet 🇮🇳🇵🇰\\n\\n🏏 In... 2023-09-08 19:22:00\n",
       "2                    Tarun Pandey: <Media omitted>\\n 2023-09-13 18:07:00\n",
       "3                             Toofan Express: Chlo\\n 2023-09-13 18:09:00\n",
       "4          Tushar Shukla: You deleted this message\\n 2023-09-13 18:12:00"
      ]
     },
     "execution_count": 15,
     "metadata": {},
     "output_type": "execute_result"
    }
   ],
   "source": [
    "df.head()"
   ]
  },
  {
   "cell_type": "code",
   "execution_count": 16,
   "id": "f64a6c08",
   "metadata": {},
   "outputs": [
    {
     "data": {
      "text/plain": [
       "(707, 2)"
      ]
     },
     "execution_count": 16,
     "metadata": {},
     "output_type": "execute_result"
    }
   ],
   "source": [
    "df.shape"
   ]
  },
  {
   "cell_type": "code",
   "execution_count": 17,
   "id": "dcadb07b",
   "metadata": {},
   "outputs": [
    {
     "data": {
      "text/html": [
       "<div>\n",
       "<style scoped>\n",
       "    .dataframe tbody tr th:only-of-type {\n",
       "        vertical-align: middle;\n",
       "    }\n",
       "\n",
       "    .dataframe tbody tr th {\n",
       "        vertical-align: top;\n",
       "    }\n",
       "\n",
       "    .dataframe thead th {\n",
       "        text-align: right;\n",
       "    }\n",
       "</style>\n",
       "<table border=\"1\" class=\"dataframe\">\n",
       "  <thead>\n",
       "    <tr style=\"text-align: right;\">\n",
       "      <th></th>\n",
       "      <th>date</th>\n",
       "      <th>username</th>\n",
       "      <th>message</th>\n",
       "    </tr>\n",
       "  </thead>\n",
       "  <tbody>\n",
       "    <tr>\n",
       "      <th>0</th>\n",
       "      <td>2023-09-08 19:22:00</td>\n",
       "      <td>Bambaya</td>\n",
       "      <td>&lt;Media omitted&gt;\\n</td>\n",
       "    </tr>\n",
       "    <tr>\n",
       "      <th>1</th>\n",
       "      <td>2023-09-08 19:22:00</td>\n",
       "      <td>Bambaya</td>\n",
       "      <td></td>\n",
       "    </tr>\n",
       "    <tr>\n",
       "      <th>2</th>\n",
       "      <td>2023-09-13 18:07:00</td>\n",
       "      <td>Tarun Pandey</td>\n",
       "      <td>&lt;Media omitted&gt;\\n</td>\n",
       "    </tr>\n",
       "    <tr>\n",
       "      <th>3</th>\n",
       "      <td>2023-09-13 18:09:00</td>\n",
       "      <td>Toofan Express</td>\n",
       "      <td>Chlo\\n</td>\n",
       "    </tr>\n",
       "    <tr>\n",
       "      <th>4</th>\n",
       "      <td>2023-09-13 18:12:00</td>\n",
       "      <td>Tushar Shukla</td>\n",
       "      <td>You deleted this message\\n</td>\n",
       "    </tr>\n",
       "  </tbody>\n",
       "</table>\n",
       "</div>"
      ],
      "text/plain": [
       "                 date        username                     message\n",
       "0 2023-09-08 19:22:00         Bambaya           <Media omitted>\\n\n",
       "1 2023-09-08 19:22:00         Bambaya                            \n",
       "2 2023-09-13 18:07:00    Tarun Pandey           <Media omitted>\\n\n",
       "3 2023-09-13 18:09:00  Toofan Express                      Chlo\\n\n",
       "4 2023-09-13 18:12:00   Tushar Shukla  You deleted this message\\n"
      ]
     },
     "execution_count": 17,
     "metadata": {},
     "output_type": "execute_result"
    }
   ],
   "source": [
    "# separate username and message from message data\n",
    "username = []\n",
    "messages = []\n",
    "username_pattern = '([\\w\\W]+?):\\s'\n",
    "\n",
    "for message in df['user_message']:\n",
    "    entry = re.split(pattern=username_pattern, string=message)\n",
    "    if entry[1:]:# username\n",
    "        username.append(entry[1])\n",
    "        messages.append(entry[2])\n",
    "    else:\n",
    "        username.append('group_notification')\n",
    "        messages.append(entry[0])\n",
    "\n",
    "df['username'] = username\n",
    "df['message'] = messages\n",
    "df.drop(columns=['user_message'], inplace=True)\n",
    "\n",
    "df.head()"
   ]
  },
  {
   "cell_type": "code",
   "execution_count": 18,
   "id": "c8bc7c27",
   "metadata": {},
   "outputs": [],
   "source": [
    "df['date'] = pd.to_datetime(df['date'])"
   ]
  },
  {
   "cell_type": "code",
   "execution_count": 19,
   "id": "b14c8c49",
   "metadata": {},
   "outputs": [],
   "source": [
    "df['year'] = df['date'].dt.year\n",
    "df['month'] = df['date'].dt.month_name()\n",
    "df['day'] = df['date'].dt.day\n",
    "df['hour'] = df['date'].dt.hour\n",
    "df['minute'] = df['date'].dt.minute "
   ]
  },
  {
   "cell_type": "code",
   "execution_count": 20,
   "id": "ec1d7e98",
   "metadata": {},
   "outputs": [
    {
     "data": {
      "text/html": [
       "<div>\n",
       "<style scoped>\n",
       "    .dataframe tbody tr th:only-of-type {\n",
       "        vertical-align: middle;\n",
       "    }\n",
       "\n",
       "    .dataframe tbody tr th {\n",
       "        vertical-align: top;\n",
       "    }\n",
       "\n",
       "    .dataframe thead th {\n",
       "        text-align: right;\n",
       "    }\n",
       "</style>\n",
       "<table border=\"1\" class=\"dataframe\">\n",
       "  <thead>\n",
       "    <tr style=\"text-align: right;\">\n",
       "      <th></th>\n",
       "      <th>date</th>\n",
       "      <th>username</th>\n",
       "      <th>message</th>\n",
       "      <th>year</th>\n",
       "      <th>month</th>\n",
       "      <th>day</th>\n",
       "      <th>hour</th>\n",
       "      <th>minute</th>\n",
       "    </tr>\n",
       "  </thead>\n",
       "  <tbody>\n",
       "    <tr>\n",
       "      <th>0</th>\n",
       "      <td>2023-09-08 19:22:00</td>\n",
       "      <td>Bambaya</td>\n",
       "      <td>&lt;Media omitted&gt;\\n</td>\n",
       "      <td>2023</td>\n",
       "      <td>September</td>\n",
       "      <td>8</td>\n",
       "      <td>19</td>\n",
       "      <td>22</td>\n",
       "    </tr>\n",
       "    <tr>\n",
       "      <th>1</th>\n",
       "      <td>2023-09-08 19:22:00</td>\n",
       "      <td>Bambaya</td>\n",
       "      <td></td>\n",
       "      <td>2023</td>\n",
       "      <td>September</td>\n",
       "      <td>8</td>\n",
       "      <td>19</td>\n",
       "      <td>22</td>\n",
       "    </tr>\n",
       "    <tr>\n",
       "      <th>2</th>\n",
       "      <td>2023-09-13 18:07:00</td>\n",
       "      <td>Tarun Pandey</td>\n",
       "      <td>&lt;Media omitted&gt;\\n</td>\n",
       "      <td>2023</td>\n",
       "      <td>September</td>\n",
       "      <td>13</td>\n",
       "      <td>18</td>\n",
       "      <td>7</td>\n",
       "    </tr>\n",
       "    <tr>\n",
       "      <th>3</th>\n",
       "      <td>2023-09-13 18:09:00</td>\n",
       "      <td>Toofan Express</td>\n",
       "      <td>Chlo\\n</td>\n",
       "      <td>2023</td>\n",
       "      <td>September</td>\n",
       "      <td>13</td>\n",
       "      <td>18</td>\n",
       "      <td>9</td>\n",
       "    </tr>\n",
       "    <tr>\n",
       "      <th>4</th>\n",
       "      <td>2023-09-13 18:12:00</td>\n",
       "      <td>Tushar Shukla</td>\n",
       "      <td>You deleted this message\\n</td>\n",
       "      <td>2023</td>\n",
       "      <td>September</td>\n",
       "      <td>13</td>\n",
       "      <td>18</td>\n",
       "      <td>12</td>\n",
       "    </tr>\n",
       "  </tbody>\n",
       "</table>\n",
       "</div>"
      ],
      "text/plain": [
       "                 date        username                     message  year  \\\n",
       "0 2023-09-08 19:22:00         Bambaya           <Media omitted>\\n  2023   \n",
       "1 2023-09-08 19:22:00         Bambaya                              2023   \n",
       "2 2023-09-13 18:07:00    Tarun Pandey           <Media omitted>\\n  2023   \n",
       "3 2023-09-13 18:09:00  Toofan Express                      Chlo\\n  2023   \n",
       "4 2023-09-13 18:12:00   Tushar Shukla  You deleted this message\\n  2023   \n",
       "\n",
       "       month  day  hour  minute  \n",
       "0  September    8    19      22  \n",
       "1  September    8    19      22  \n",
       "2  September   13    18       7  \n",
       "3  September   13    18       9  \n",
       "4  September   13    18      12  "
      ]
     },
     "execution_count": 20,
     "metadata": {},
     "output_type": "execute_result"
    }
   ],
   "source": [
    "df.head()"
   ]
  },
  {
   "cell_type": "code",
   "execution_count": 21,
   "id": "8917babe",
   "metadata": {},
   "outputs": [
    {
     "data": {
      "text/plain": [
       "['www.google.com', 'stackoverflow.com', 'www.gmail.com']"
      ]
     },
     "execution_count": 21,
     "metadata": {},
     "output_type": "execute_result"
    }
   ],
   "source": [
    "from urlextract import URLExtract\n",
    "\n",
    "extractor = URLExtract()\n",
    "urls = extractor.find_urls(text=\"Let's find www.google.com that have stackoverflow.com and also has www.gmail.com\")\n",
    "urls"
   ]
  },
  {
   "cell_type": "code",
   "execution_count": 22,
   "id": "28f93c39",
   "metadata": {},
   "outputs": [],
   "source": [
    "!source myenv/bin/activate"
   ]
  },
  {
   "cell_type": "code",
   "execution_count": 23,
   "id": "ecb05cf4",
   "metadata": {},
   "outputs": [
    {
     "name": "stdout",
     "output_type": "stream",
     "text": [
      "Requirement already satisfied: urlextract in /home/tusharshukla/ML/7. EDA/myenv/lib/python3.12/site-packages (1.9.0)\n",
      "Requirement already satisfied: idna in /home/tusharshukla/ML/7. EDA/myenv/lib/python3.12/site-packages (from urlextract) (3.7)\n",
      "Requirement already satisfied: uritools in /home/tusharshukla/ML/7. EDA/myenv/lib/python3.12/site-packages (from urlextract) (4.0.3)\n",
      "Requirement already satisfied: platformdirs in /home/tusharshukla/ML/7. EDA/myenv/lib/python3.12/site-packages (from urlextract) (4.2.2)\n",
      "Requirement already satisfied: filelock in /home/tusharshukla/ML/7. EDA/myenv/lib/python3.12/site-packages (from urlextract) (3.15.4)\n"
     ]
    }
   ],
   "source": [
    "!pip install urlextract"
   ]
  },
  {
   "cell_type": "code",
   "execution_count": 24,
   "id": "49ab0754-67ba-4b90-9667-8fb04fc26d10",
   "metadata": {},
   "outputs": [],
   "source": [
    "links = []\n",
    "\n",
    "for message in df['message']:\n",
    "    links.extend(extractor.find_urls(text=message))"
   ]
  },
  {
   "cell_type": "code",
   "execution_count": 25,
   "id": "aae4b9ff-38b0-4176-80cc-9daa6c56a648",
   "metadata": {},
   "outputs": [
    {
     "data": {
      "text/plain": [
       "5"
      ]
     },
     "execution_count": 25,
     "metadata": {},
     "output_type": "execute_result"
    }
   ],
   "source": [
    "len(links)"
   ]
  },
  {
   "cell_type": "code",
   "execution_count": 26,
   "id": "39e400aa-3561-4dc0-8767-1931e0b51168",
   "metadata": {},
   "outputs": [],
   "source": [
    "x = df['username'].value_counts().head()"
   ]
  },
  {
   "cell_type": "code",
   "execution_count": 27,
   "id": "448fba19-9061-4fc4-a594-5264dedb2ab7",
   "metadata": {},
   "outputs": [],
   "source": [
    "import matplotlib.pyplot as plt"
   ]
  },
  {
   "cell_type": "code",
   "execution_count": 28,
   "id": "c0ff6bcc-2ec3-4bad-8e26-02f34b90889c",
   "metadata": {},
   "outputs": [
    {
     "data": {
      "image/png": "[encoded data removed]",
      "text/plain": [
       "<Figure size 640x480 with 1 Axes>"
      ]
     },
     "metadata": {},
     "output_type": "display_data"
    }
   ],
   "source": [
    "names = x.index\n",
    "counts = x.values\n",
    "plt.bar(names, counts)\n",
    "plt.show()"
   ]
  },
  {
   "cell_type": "code",
   "execution_count": 29,
   "id": "179eca5f-4d36-4d97-89ad-7801ea4715d1",
   "metadata": {},
   "outputs": [],
   "source": [
    "x_percent = round((df['username'].value_counts()/df.shape[0])*100,2).head().reset_index().rename(columns={'username':'name', 'count':'percent'})"
   ]
  },
  {
   "cell_type": "code",
   "execution_count": 30,
   "id": "57de66f5-136e-4d9a-a2f2-2b64dc6f2370",
   "metadata": {},
   "outputs": [
    {
     "data": {
      "text/html": [
       "<div>\n",
       "<style scoped>\n",
       "    .dataframe tbody tr th:only-of-type {\n",
       "        vertical-align: middle;\n",
       "    }\n",
       "\n",
       "    .dataframe tbody tr th {\n",
       "        vertical-align: top;\n",
       "    }\n",
       "\n",
       "    .dataframe thead th {\n",
       "        text-align: right;\n",
       "    }\n",
       "</style>\n",
       "<table border=\"1\" class=\"dataframe\">\n",
       "  <thead>\n",
       "    <tr style=\"text-align: right;\">\n",
       "      <th></th>\n",
       "      <th>name</th>\n",
       "      <th>percent</th>\n",
       "    </tr>\n",
       "  </thead>\n",
       "  <tbody>\n",
       "    <tr>\n",
       "      <th>0</th>\n",
       "      <td>Tarun Pandey</td>\n",
       "      <td>18.10</td>\n",
       "    </tr>\n",
       "    <tr>\n",
       "      <th>1</th>\n",
       "      <td>Nitin Verma</td>\n",
       "      <td>15.84</td>\n",
       "    </tr>\n",
       "    <tr>\n",
       "      <th>2</th>\n",
       "      <td>Tatya</td>\n",
       "      <td>11.03</td>\n",
       "    </tr>\n",
       "    <tr>\n",
       "      <th>3</th>\n",
       "      <td>Jigu</td>\n",
       "      <td>8.91</td>\n",
       "    </tr>\n",
       "    <tr>\n",
       "      <th>4</th>\n",
       "      <td>Bambaya</td>\n",
       "      <td>6.79</td>\n",
       "    </tr>\n",
       "  </tbody>\n",
       "</table>\n",
       "</div>"
      ],
      "text/plain": [
       "           name  percent\n",
       "0  Tarun Pandey    18.10\n",
       "1   Nitin Verma    15.84\n",
       "2         Tatya    11.03\n",
       "3          Jigu     8.91\n",
       "4       Bambaya     6.79"
      ]
     },
     "execution_count": 30,
     "metadata": {},
     "output_type": "execute_result"
    }
   ],
   "source": [
    "x_percent"
   ]
  },
  {
   "cell_type": "code",
   "execution_count": 31,
   "id": "604f7a67-9a63-43bc-92ae-1578175e1378",
   "metadata": {},
   "outputs": [
    {
     "data": {
      "text/html": [
       "<div>\n",
       "<style scoped>\n",
       "    .dataframe tbody tr th:only-of-type {\n",
       "        vertical-align: middle;\n",
       "    }\n",
       "\n",
       "    .dataframe tbody tr th {\n",
       "        vertical-align: top;\n",
       "    }\n",
       "\n",
       "    .dataframe thead th {\n",
       "        text-align: right;\n",
       "    }\n",
       "</style>\n",
       "<table border=\"1\" class=\"dataframe\">\n",
       "  <thead>\n",
       "    <tr style=\"text-align: right;\">\n",
       "      <th></th>\n",
       "      <th>0</th>\n",
       "      <th>1</th>\n",
       "    </tr>\n",
       "  </thead>\n",
       "  <tbody>\n",
       "    <tr>\n",
       "      <th>0</th>\n",
       "      <td>birthday</td>\n",
       "      <td>137</td>\n",
       "    </tr>\n",
       "    <tr>\n",
       "      <th>1</th>\n",
       "      <td>नगर,</td>\n",
       "      <td>104</td>\n",
       "    </tr>\n",
       "    <tr>\n",
       "      <th>2</th>\n",
       "      <td>happy</td>\n",
       "      <td>103</td>\n",
       "    </tr>\n",
       "    <tr>\n",
       "      <th>3</th>\n",
       "      <td>पाणीपुरवठा</td>\n",
       "      <td>100</td>\n",
       "    </tr>\n",
       "    <tr>\n",
       "      <th>4</th>\n",
       "      <td>Happy</td>\n",
       "      <td>85</td>\n",
       "    </tr>\n",
       "    <tr>\n",
       "      <th>5</th>\n",
       "      <td>hai</td>\n",
       "      <td>77</td>\n",
       "    </tr>\n",
       "    <tr>\n",
       "      <th>6</th>\n",
       "      <td>ते</td>\n",
       "      <td>64</td>\n",
       "    </tr>\n",
       "    <tr>\n",
       "      <th>7</th>\n",
       "      <td>रोजी</td>\n",
       "      <td>62</td>\n",
       "    </tr>\n",
       "    <tr>\n",
       "      <th>8</th>\n",
       "      <td>सकाळी</td>\n",
       "      <td>58</td>\n",
       "    </tr>\n",
       "    <tr>\n",
       "      <th>9</th>\n",
       "      <td>Birthday</td>\n",
       "      <td>53</td>\n",
       "    </tr>\n",
       "    <tr>\n",
       "      <th>10</th>\n",
       "      <td>🎂</td>\n",
       "      <td>40</td>\n",
       "    </tr>\n",
       "    <tr>\n",
       "      <th>11</th>\n",
       "      <td>मार्ग,</td>\n",
       "      <td>40</td>\n",
       "    </tr>\n",
       "    <tr>\n",
       "      <th>12</th>\n",
       "      <td>message</td>\n",
       "      <td>38</td>\n",
       "    </tr>\n",
       "    <tr>\n",
       "      <th>13</th>\n",
       "      <td>के</td>\n",
       "      <td>38</td>\n",
       "    </tr>\n",
       "    <tr>\n",
       "      <th>14</th>\n",
       "      <td>(नियमित</td>\n",
       "      <td>38</td>\n",
       "    </tr>\n",
       "    <tr>\n",
       "      <th>15</th>\n",
       "      <td>deleted</td>\n",
       "      <td>36</td>\n",
       "    </tr>\n",
       "    <tr>\n",
       "      <th>16</th>\n",
       "      <td>(दिनांक</td>\n",
       "      <td>32</td>\n",
       "    </tr>\n",
       "    <tr>\n",
       "      <th>17</th>\n",
       "      <td>bhi</td>\n",
       "      <td>31</td>\n",
       "    </tr>\n",
       "    <tr>\n",
       "      <th>18</th>\n",
       "      <td>😂</td>\n",
       "      <td>30</td>\n",
       "    </tr>\n",
       "    <tr>\n",
       "      <th>19</th>\n",
       "      <td>वाजेपर्यंत)</td>\n",
       "      <td>30</td>\n",
       "    </tr>\n",
       "  </tbody>\n",
       "</table>\n",
       "</div>"
      ],
      "text/plain": [
       "              0    1\n",
       "0      birthday  137\n",
       "1          नगर,  104\n",
       "2         happy  103\n",
       "3    पाणीपुरवठा  100\n",
       "4         Happy   85\n",
       "5           hai   77\n",
       "6            ते   64\n",
       "7          रोजी   62\n",
       "8         सकाळी   58\n",
       "9      Birthday   53\n",
       "10            🎂   40\n",
       "11       मार्ग,   40\n",
       "12      message   38\n",
       "13           के   38\n",
       "14      (नियमित   38\n",
       "15      deleted   36\n",
       "16      (दिनांक   32\n",
       "17          bhi   31\n",
       "18            😂   30\n",
       "19  वाजेपर्यंत)   30"
      ]
     },
     "execution_count": 31,
     "metadata": {},
     "output_type": "execute_result"
    }
   ],
   "source": [
    "# remove group notification\n",
    "temp = df[df['username']!='group_notification']\n",
    "\n",
    "# remove media ommited message\n",
    "temp = temp[temp['message']!='<Media omitted>\\n']\n",
    "\n",
    "# remove stop words\n",
    "f = open(file='stop_hinglish.txt', mode='r')\n",
    "stop_words = (f.read())\n",
    "\n",
    "words = []\n",
    "\n",
    "for message in temp['message']:\n",
    "    for word in message.lower().split():\n",
    "        if word not in stop_words:\n",
    "            words.append(word)\n",
    "    words.extend((message.split()))\n",
    "\n",
    "from collections import Counter\n",
    "pd.DataFrame(Counter(words).most_common(20))"
   ]
  },
  {
   "cell_type": "code",
   "execution_count": 32,
   "id": "236d21ac-52fc-4183-a221-ebc0ab4ca7c9",
   "metadata": {},
   "outputs": [
    {
     "data": {
      "text/html": [
       "<div>\n",
       "<style scoped>\n",
       "    .dataframe tbody tr th:only-of-type {\n",
       "        vertical-align: middle;\n",
       "    }\n",
       "\n",
       "    .dataframe tbody tr th {\n",
       "        vertical-align: top;\n",
       "    }\n",
       "\n",
       "    .dataframe thead th {\n",
       "        text-align: right;\n",
       "    }\n",
       "</style>\n",
       "<table border=\"1\" class=\"dataframe\">\n",
       "  <thead>\n",
       "    <tr style=\"text-align: right;\">\n",
       "      <th></th>\n",
       "      <th>0</th>\n",
       "      <th>1</th>\n",
       "    </tr>\n",
       "  </thead>\n",
       "  <tbody>\n",
       "    <tr>\n",
       "      <th>0</th>\n",
       "      <td>🎂</td>\n",
       "      <td>71</td>\n",
       "    </tr>\n",
       "    <tr>\n",
       "      <th>1</th>\n",
       "      <td>😂</td>\n",
       "      <td>46</td>\n",
       "    </tr>\n",
       "    <tr>\n",
       "      <th>2</th>\n",
       "      <td>🥳</td>\n",
       "      <td>45</td>\n",
       "    </tr>\n",
       "    <tr>\n",
       "      <th>3</th>\n",
       "      <td>🙏</td>\n",
       "      <td>25</td>\n",
       "    </tr>\n",
       "    <tr>\n",
       "      <th>4</th>\n",
       "      <td>🍺</td>\n",
       "      <td>19</td>\n",
       "    </tr>\n",
       "    <tr>\n",
       "      <th>...</th>\n",
       "      <td>...</td>\n",
       "      <td>...</td>\n",
       "    </tr>\n",
       "    <tr>\n",
       "      <th>64</th>\n",
       "      <td>✌</td>\n",
       "      <td>1</td>\n",
       "    </tr>\n",
       "    <tr>\n",
       "      <th>65</th>\n",
       "      <td>👌</td>\n",
       "      <td>1</td>\n",
       "    </tr>\n",
       "    <tr>\n",
       "      <th>66</th>\n",
       "      <td>🙄</td>\n",
       "      <td>1</td>\n",
       "    </tr>\n",
       "    <tr>\n",
       "      <th>67</th>\n",
       "      <td>❣</td>\n",
       "      <td>1</td>\n",
       "    </tr>\n",
       "    <tr>\n",
       "      <th>68</th>\n",
       "      <td>🤩</td>\n",
       "      <td>1</td>\n",
       "    </tr>\n",
       "  </tbody>\n",
       "</table>\n",
       "<p>69 rows × 2 columns</p>\n",
       "</div>"
      ],
      "text/plain": [
       "    0   1\n",
       "0   🎂  71\n",
       "1   😂  46\n",
       "2   🥳  45\n",
       "3   🙏  25\n",
       "4   🍺  19\n",
       ".. ..  ..\n",
       "64  ✌   1\n",
       "65  👌   1\n",
       "66  🙄   1\n",
       "67  ❣   1\n",
       "68  🤩   1\n",
       "\n",
       "[69 rows x 2 columns]"
      ]
     },
     "execution_count": 32,
     "metadata": {},
     "output_type": "execute_result"
    }
   ],
   "source": [
    "# analyzing emojis\n",
    "import emoji\n",
    "\n",
    "emojis = []\n",
    "for message in df['message']:\n",
    "    emojis.extend([c for c in message if c in emoji.EMOJI_DATA])\n",
    "pd.DataFrame(Counter(emojis).most_common(len(Counter(emojis))))"
   ]
  },
  {
   "cell_type": "markdown",
   "id": "1bff150d-c736-4a4f-8e25-04ce827caf53",
   "metadata": {},
   "source": [
    "#### monthly timeline"
   ]
  },
  {
   "cell_type": "code",
   "execution_count": 33,
   "id": "f2b53385-cee5-4653-b3f6-c6c6a684b008",
   "metadata": {},
   "outputs": [
    {
     "data": {
      "text/html": [
       "<div>\n",
       "<style scoped>\n",
       "    .dataframe tbody tr th:only-of-type {\n",
       "        vertical-align: middle;\n",
       "    }\n",
       "\n",
       "    .dataframe tbody tr th {\n",
       "        vertical-align: top;\n",
       "    }\n",
       "\n",
       "    .dataframe thead th {\n",
       "        text-align: right;\n",
       "    }\n",
       "</style>\n",
       "<table border=\"1\" class=\"dataframe\">\n",
       "  <thead>\n",
       "    <tr style=\"text-align: right;\">\n",
       "      <th></th>\n",
       "      <th>date</th>\n",
       "      <th>username</th>\n",
       "      <th>message</th>\n",
       "      <th>year</th>\n",
       "      <th>month</th>\n",
       "      <th>day</th>\n",
       "      <th>hour</th>\n",
       "      <th>minute</th>\n",
       "      <th>month_num</th>\n",
       "    </tr>\n",
       "  </thead>\n",
       "  <tbody>\n",
       "    <tr>\n",
       "      <th>0</th>\n",
       "      <td>2023-09-08 19:22:00</td>\n",
       "      <td>Bambaya</td>\n",
       "      <td>&lt;Media omitted&gt;\\n</td>\n",
       "      <td>2023</td>\n",
       "      <td>September</td>\n",
       "      <td>8</td>\n",
       "      <td>19</td>\n",
       "      <td>22</td>\n",
       "      <td>9</td>\n",
       "    </tr>\n",
       "    <tr>\n",
       "      <th>1</th>\n",
       "      <td>2023-09-08 19:22:00</td>\n",
       "      <td>Bambaya</td>\n",
       "      <td></td>\n",
       "      <td>2023</td>\n",
       "      <td>September</td>\n",
       "      <td>8</td>\n",
       "      <td>19</td>\n",
       "      <td>22</td>\n",
       "      <td>9</td>\n",
       "    </tr>\n",
       "    <tr>\n",
       "      <th>2</th>\n",
       "      <td>2023-09-13 18:07:00</td>\n",
       "      <td>Tarun Pandey</td>\n",
       "      <td>&lt;Media omitted&gt;\\n</td>\n",
       "      <td>2023</td>\n",
       "      <td>September</td>\n",
       "      <td>13</td>\n",
       "      <td>18</td>\n",
       "      <td>7</td>\n",
       "      <td>9</td>\n",
       "    </tr>\n",
       "    <tr>\n",
       "      <th>3</th>\n",
       "      <td>2023-09-13 18:09:00</td>\n",
       "      <td>Toofan Express</td>\n",
       "      <td>Chlo\\n</td>\n",
       "      <td>2023</td>\n",
       "      <td>September</td>\n",
       "      <td>13</td>\n",
       "      <td>18</td>\n",
       "      <td>9</td>\n",
       "      <td>9</td>\n",
       "    </tr>\n",
       "    <tr>\n",
       "      <th>4</th>\n",
       "      <td>2023-09-13 18:12:00</td>\n",
       "      <td>Tushar Shukla</td>\n",
       "      <td>You deleted this message\\n</td>\n",
       "      <td>2023</td>\n",
       "      <td>September</td>\n",
       "      <td>13</td>\n",
       "      <td>18</td>\n",
       "      <td>12</td>\n",
       "      <td>9</td>\n",
       "    </tr>\n",
       "  </tbody>\n",
       "</table>\n",
       "</div>"
      ],
      "text/plain": [
       "                 date        username                     message  year  \\\n",
       "0 2023-09-08 19:22:00         Bambaya           <Media omitted>\\n  2023   \n",
       "1 2023-09-08 19:22:00         Bambaya                              2023   \n",
       "2 2023-09-13 18:07:00    Tarun Pandey           <Media omitted>\\n  2023   \n",
       "3 2023-09-13 18:09:00  Toofan Express                      Chlo\\n  2023   \n",
       "4 2023-09-13 18:12:00   Tushar Shukla  You deleted this message\\n  2023   \n",
       "\n",
       "       month  day  hour  minute  month_num  \n",
       "0  September    8    19      22          9  \n",
       "1  September    8    19      22          9  \n",
       "2  September   13    18       7          9  \n",
       "3  September   13    18       9          9  \n",
       "4  September   13    18      12          9  "
      ]
     },
     "execution_count": 33,
     "metadata": {},
     "output_type": "execute_result"
    }
   ],
   "source": [
    "df['month_num'] = df['date'].dt.month\n",
    "df.head()"
   ]
  },
  {
   "cell_type": "code",
   "execution_count": 34,
   "id": "db44f2b4-135a-49ab-9159-224889f5c667",
   "metadata": {},
   "outputs": [
    {
     "data": {
      "text/html": [
       "<div>\n",
       "<style scoped>\n",
       "    .dataframe tbody tr th:only-of-type {\n",
       "        vertical-align: middle;\n",
       "    }\n",
       "\n",
       "    .dataframe tbody tr th {\n",
       "        vertical-align: top;\n",
       "    }\n",
       "\n",
       "    .dataframe thead th {\n",
       "        text-align: right;\n",
       "    }\n",
       "</style>\n",
       "<table border=\"1\" class=\"dataframe\">\n",
       "  <thead>\n",
       "    <tr style=\"text-align: right;\">\n",
       "      <th></th>\n",
       "      <th>year</th>\n",
       "      <th>month</th>\n",
       "      <th>message</th>\n",
       "      <th>time</th>\n",
       "    </tr>\n",
       "  </thead>\n",
       "  <tbody>\n",
       "    <tr>\n",
       "      <th>0</th>\n",
       "      <td>2023</td>\n",
       "      <td>December</td>\n",
       "      <td>12</td>\n",
       "      <td>December-2023</td>\n",
       "    </tr>\n",
       "    <tr>\n",
       "      <th>1</th>\n",
       "      <td>2023</td>\n",
       "      <td>November</td>\n",
       "      <td>28</td>\n",
       "      <td>November-2023</td>\n",
       "    </tr>\n",
       "    <tr>\n",
       "      <th>2</th>\n",
       "      <td>2023</td>\n",
       "      <td>October</td>\n",
       "      <td>62</td>\n",
       "      <td>October-2023</td>\n",
       "    </tr>\n",
       "    <tr>\n",
       "      <th>3</th>\n",
       "      <td>2023</td>\n",
       "      <td>September</td>\n",
       "      <td>45</td>\n",
       "      <td>September-2023</td>\n",
       "    </tr>\n",
       "    <tr>\n",
       "      <th>4</th>\n",
       "      <td>2024</td>\n",
       "      <td>April</td>\n",
       "      <td>33</td>\n",
       "      <td>April-2024</td>\n",
       "    </tr>\n",
       "    <tr>\n",
       "      <th>5</th>\n",
       "      <td>2024</td>\n",
       "      <td>August</td>\n",
       "      <td>106</td>\n",
       "      <td>August-2024</td>\n",
       "    </tr>\n",
       "    <tr>\n",
       "      <th>6</th>\n",
       "      <td>2024</td>\n",
       "      <td>February</td>\n",
       "      <td>14</td>\n",
       "      <td>February-2024</td>\n",
       "    </tr>\n",
       "    <tr>\n",
       "      <th>7</th>\n",
       "      <td>2024</td>\n",
       "      <td>January</td>\n",
       "      <td>4</td>\n",
       "      <td>January-2024</td>\n",
       "    </tr>\n",
       "    <tr>\n",
       "      <th>8</th>\n",
       "      <td>2024</td>\n",
       "      <td>July</td>\n",
       "      <td>73</td>\n",
       "      <td>July-2024</td>\n",
       "    </tr>\n",
       "    <tr>\n",
       "      <th>9</th>\n",
       "      <td>2024</td>\n",
       "      <td>June</td>\n",
       "      <td>124</td>\n",
       "      <td>June-2024</td>\n",
       "    </tr>\n",
       "    <tr>\n",
       "      <th>10</th>\n",
       "      <td>2024</td>\n",
       "      <td>March</td>\n",
       "      <td>83</td>\n",
       "      <td>March-2024</td>\n",
       "    </tr>\n",
       "    <tr>\n",
       "      <th>11</th>\n",
       "      <td>2024</td>\n",
       "      <td>May</td>\n",
       "      <td>123</td>\n",
       "      <td>May-2024</td>\n",
       "    </tr>\n",
       "  </tbody>\n",
       "</table>\n",
       "</div>"
      ],
      "text/plain": [
       "    year      month  message            time\n",
       "0   2023   December       12   December-2023\n",
       "1   2023   November       28   November-2023\n",
       "2   2023    October       62    October-2023\n",
       "3   2023  September       45  September-2023\n",
       "4   2024      April       33      April-2024\n",
       "5   2024     August      106     August-2024\n",
       "6   2024   February       14   February-2024\n",
       "7   2024    January        4    January-2024\n",
       "8   2024       July       73       July-2024\n",
       "9   2024       June      124       June-2024\n",
       "10  2024      March       83      March-2024\n",
       "11  2024        May      123        May-2024"
      ]
     },
     "execution_count": 34,
     "metadata": {},
     "output_type": "execute_result"
    }
   ],
   "source": [
    "time_line = df.groupby(by=['year', 'month']).count()['message'].reset_index()\n",
    "time = []\n",
    "for i in range(time_line.shape[0]):\n",
    "    time.append(time_line['month'][i] + '-' + str(time_line['year'][i]))\n",
    "time_line['time'] = time\n",
    "time_line"
   ]
  },
  {
   "cell_type": "code",
   "execution_count": 35,
   "id": "aa8a12b8-8eae-4d67-8901-15537f90d6d4",
   "metadata": {},
   "outputs": [
    {
     "data": {
      "image/png": "[encoded data removed]",
      "text/plain": [
       "<Figure size 640x480 with 1 Axes>"
      ]
     },
     "metadata": {},
     "output_type": "display_data"
    }
   ],
   "source": [
    "plt.plot(time_line['time'], time_line['message'])\n",
    "plt.xticks(rotation=90)\n",
    "plt.show()"
   ]
  },
  {
   "cell_type": "markdown",
   "id": "2f67d78f-5fe2-4c9e-bc34-878610cb8914",
   "metadata": {},
   "source": [
    "### daily timeline"
   ]
  },
  {
   "cell_type": "code",
   "execution_count": 41,
   "id": "70f43a0e-74bb-4417-aa04-231187c4a897",
   "metadata": {},
   "outputs": [
    {
     "data": {
      "text/html": [
       "<div>\n",
       "<style scoped>\n",
       "    .dataframe tbody tr th:only-of-type {\n",
       "        vertical-align: middle;\n",
       "    }\n",
       "\n",
       "    .dataframe tbody tr th {\n",
       "        vertical-align: top;\n",
       "    }\n",
       "\n",
       "    .dataframe thead th {\n",
       "        text-align: right;\n",
       "    }\n",
       "</style>\n",
       "<table border=\"1\" class=\"dataframe\">\n",
       "  <thead>\n",
       "    <tr style=\"text-align: right;\">\n",
       "      <th></th>\n",
       "      <th>date</th>\n",
       "      <th>username</th>\n",
       "      <th>message</th>\n",
       "      <th>year</th>\n",
       "      <th>month</th>\n",
       "      <th>day</th>\n",
       "      <th>hour</th>\n",
       "      <th>minute</th>\n",
       "      <th>month_num</th>\n",
       "      <th>day_num</th>\n",
       "      <th>only_date</th>\n",
       "    </tr>\n",
       "  </thead>\n",
       "  <tbody>\n",
       "    <tr>\n",
       "      <th>0</th>\n",
       "      <td>2023-09-08 19:22:00</td>\n",
       "      <td>Bambaya</td>\n",
       "      <td>&lt;Media omitted&gt;\\n</td>\n",
       "      <td>2023</td>\n",
       "      <td>September</td>\n",
       "      <td>8</td>\n",
       "      <td>19</td>\n",
       "      <td>22</td>\n",
       "      <td>9</td>\n",
       "      <td>2023-09-08</td>\n",
       "      <td>2023-09-08</td>\n",
       "    </tr>\n",
       "    <tr>\n",
       "      <th>1</th>\n",
       "      <td>2023-09-08 19:22:00</td>\n",
       "      <td>Bambaya</td>\n",
       "      <td></td>\n",
       "      <td>2023</td>\n",
       "      <td>September</td>\n",
       "      <td>8</td>\n",
       "      <td>19</td>\n",
       "      <td>22</td>\n",
       "      <td>9</td>\n",
       "      <td>2023-09-08</td>\n",
       "      <td>2023-09-08</td>\n",
       "    </tr>\n",
       "    <tr>\n",
       "      <th>2</th>\n",
       "      <td>2023-09-13 18:07:00</td>\n",
       "      <td>Tarun Pandey</td>\n",
       "      <td>&lt;Media omitted&gt;\\n</td>\n",
       "      <td>2023</td>\n",
       "      <td>September</td>\n",
       "      <td>13</td>\n",
       "      <td>18</td>\n",
       "      <td>7</td>\n",
       "      <td>9</td>\n",
       "      <td>2023-09-13</td>\n",
       "      <td>2023-09-13</td>\n",
       "    </tr>\n",
       "    <tr>\n",
       "      <th>3</th>\n",
       "      <td>2023-09-13 18:09:00</td>\n",
       "      <td>Toofan Express</td>\n",
       "      <td>Chlo\\n</td>\n",
       "      <td>2023</td>\n",
       "      <td>September</td>\n",
       "      <td>13</td>\n",
       "      <td>18</td>\n",
       "      <td>9</td>\n",
       "      <td>9</td>\n",
       "      <td>2023-09-13</td>\n",
       "      <td>2023-09-13</td>\n",
       "    </tr>\n",
       "    <tr>\n",
       "      <th>4</th>\n",
       "      <td>2023-09-13 18:12:00</td>\n",
       "      <td>Tushar Shukla</td>\n",
       "      <td>You deleted this message\\n</td>\n",
       "      <td>2023</td>\n",
       "      <td>September</td>\n",
       "      <td>13</td>\n",
       "      <td>18</td>\n",
       "      <td>12</td>\n",
       "      <td>9</td>\n",
       "      <td>2023-09-13</td>\n",
       "      <td>2023-09-13</td>\n",
       "    </tr>\n",
       "  </tbody>\n",
       "</table>\n",
       "</div>"
      ],
      "text/plain": [
       "                 date        username                     message  year  \\\n",
       "0 2023-09-08 19:22:00         Bambaya           <Media omitted>\\n  2023   \n",
       "1 2023-09-08 19:22:00         Bambaya                              2023   \n",
       "2 2023-09-13 18:07:00    Tarun Pandey           <Media omitted>\\n  2023   \n",
       "3 2023-09-13 18:09:00  Toofan Express                      Chlo\\n  2023   \n",
       "4 2023-09-13 18:12:00   Tushar Shukla  You deleted this message\\n  2023   \n",
       "\n",
       "       month  day  hour  minute  month_num     day_num   only_date  \n",
       "0  September    8    19      22          9  2023-09-08  2023-09-08  \n",
       "1  September    8    19      22          9  2023-09-08  2023-09-08  \n",
       "2  September   13    18       7          9  2023-09-13  2023-09-13  \n",
       "3  September   13    18       9          9  2023-09-13  2023-09-13  \n",
       "4  September   13    18      12          9  2023-09-13  2023-09-13  "
      ]
     },
     "execution_count": 41,
     "metadata": {},
     "output_type": "execute_result"
    }
   ],
   "source": [
    "df['only_date'] = df['date'].dt.date\n",
    "df.head()"
   ]
  },
  {
   "cell_type": "code",
   "execution_count": 46,
   "id": "5629ca1c-c716-4806-be3d-1be4fcc6e169",
   "metadata": {},
   "outputs": [
    {
     "data": {
      "text/html": [
       "<div>\n",
       "<style scoped>\n",
       "    .dataframe tbody tr th:only-of-type {\n",
       "        vertical-align: middle;\n",
       "    }\n",
       "\n",
       "    .dataframe tbody tr th {\n",
       "        vertical-align: top;\n",
       "    }\n",
       "\n",
       "    .dataframe thead th {\n",
       "        text-align: right;\n",
       "    }\n",
       "</style>\n",
       "<table border=\"1\" class=\"dataframe\">\n",
       "  <thead>\n",
       "    <tr style=\"text-align: right;\">\n",
       "      <th></th>\n",
       "      <th>only_date</th>\n",
       "      <th>message</th>\n",
       "    </tr>\n",
       "  </thead>\n",
       "  <tbody>\n",
       "    <tr>\n",
       "      <th>0</th>\n",
       "      <td>2023-09-08</td>\n",
       "      <td>2</td>\n",
       "    </tr>\n",
       "    <tr>\n",
       "      <th>1</th>\n",
       "      <td>2023-09-13</td>\n",
       "      <td>4</td>\n",
       "    </tr>\n",
       "    <tr>\n",
       "      <th>2</th>\n",
       "      <td>2023-09-14</td>\n",
       "      <td>7</td>\n",
       "    </tr>\n",
       "    <tr>\n",
       "      <th>3</th>\n",
       "      <td>2023-09-17</td>\n",
       "      <td>2</td>\n",
       "    </tr>\n",
       "    <tr>\n",
       "      <th>4</th>\n",
       "      <td>2023-09-18</td>\n",
       "      <td>1</td>\n",
       "    </tr>\n",
       "    <tr>\n",
       "      <th>...</th>\n",
       "      <td>...</td>\n",
       "      <td>...</td>\n",
       "    </tr>\n",
       "    <tr>\n",
       "      <th>74</th>\n",
       "      <td>2024-08-14</td>\n",
       "      <td>9</td>\n",
       "    </tr>\n",
       "    <tr>\n",
       "      <th>75</th>\n",
       "      <td>2024-08-15</td>\n",
       "      <td>17</td>\n",
       "    </tr>\n",
       "    <tr>\n",
       "      <th>76</th>\n",
       "      <td>2024-08-19</td>\n",
       "      <td>1</td>\n",
       "    </tr>\n",
       "    <tr>\n",
       "      <th>77</th>\n",
       "      <td>2024-08-27</td>\n",
       "      <td>26</td>\n",
       "    </tr>\n",
       "    <tr>\n",
       "      <th>78</th>\n",
       "      <td>2024-08-29</td>\n",
       "      <td>50</td>\n",
       "    </tr>\n",
       "  </tbody>\n",
       "</table>\n",
       "<p>79 rows × 2 columns</p>\n",
       "</div>"
      ],
      "text/plain": [
       "     only_date  message\n",
       "0   2023-09-08        2\n",
       "1   2023-09-13        4\n",
       "2   2023-09-14        7\n",
       "3   2023-09-17        2\n",
       "4   2023-09-18        1\n",
       "..         ...      ...\n",
       "74  2024-08-14        9\n",
       "75  2024-08-15       17\n",
       "76  2024-08-19        1\n",
       "77  2024-08-27       26\n",
       "78  2024-08-29       50\n",
       "\n",
       "[79 rows x 2 columns]"
      ]
     },
     "execution_count": 46,
     "metadata": {},
     "output_type": "execute_result"
    }
   ],
   "source": [
    "daily_timeline = df.groupby(by=['only_date']).count()['message'].reset_index()\n",
    "daily_timeline"
   ]
  },
  {
   "cell_type": "code",
   "execution_count": 47,
   "id": "5e40883b-1548-4724-ad9c-4469e8833ef3",
   "metadata": {},
   "outputs": [
    {
     "data": {
      "image/png": "[encoded data removed]",
      "text/plain": [
       "<Figure size 1500x1500 with 1 Axes>"
      ]
     },
     "metadata": {},
     "output_type": "display_data"
    }
   ],
   "source": [
    "plt.figure(figsize=(15,15))\n",
    "plt.plot(daily_timeline['only_date'], daily_timeline['message'])\n",
    "plt.xticks(rotation=90)\n",
    "plt.show()"
   ]
  },
  {
   "cell_type": "code",
   "execution_count": 52,
   "id": "aaed73c9-7ece-48e5-b64f-8c667c7bf3a0",
   "metadata": {},
   "outputs": [],
   "source": [
    "df['day_name'] = df['date'].dt.day_name()"
   ]
  },
  {
   "cell_type": "code",
   "execution_count": 53,
   "id": "d607799b-bb42-4406-a713-a50c57b6d6ef",
   "metadata": {},
   "outputs": [
    {
     "data": {
      "text/plain": [
       "day_name\n",
       "Friday       130\n",
       "Thursday     130\n",
       "Tuesday      122\n",
       "Monday        98\n",
       "Saturday      97\n",
       "Sunday        86\n",
       "Wednesday     44\n",
       "Name: count, dtype: int64"
      ]
     },
     "execution_count": 53,
     "metadata": {},
     "output_type": "execute_result"
    }
   ],
   "source": [
    "df['day_name'].value_counts()"
   ]
  },
  {
   "cell_type": "code",
   "execution_count": 63,
   "id": "272ba1d6-df41-4dbb-a530-e2da0327690e",
   "metadata": {},
   "outputs": [],
   "source": [
    "period = []\n",
    "\n",
    "for hour in df[['day_name', 'hour']]['hour']:\n",
    "    if hour == 23:\n",
    "        period.append(str(hour) + '-' + str('00'))\n",
    "    elif hour == 0:\n",
    "        period.append(str('00') + '-' + str(hour+1))\n",
    "    else:\n",
    "        period.append(str(hour) + '-' + str(hour+1))"
   ]
  },
  {
   "cell_type": "code",
   "execution_count": 68,
   "id": "819ea888-9950-4eff-80c5-ece8a161f7ed",
   "metadata": {},
   "outputs": [],
   "source": [
    "df['period'] = period"
   ]
  },
  {
   "cell_type": "code",
   "execution_count": 75,
   "id": "e64cf00d-5527-4601-a620-0ae045838034",
   "metadata": {},
   "outputs": [
    {
     "data": {
      "image/png": "[encoded data removed]",
      "text/plain": [
       "<Figure size 2000x600 with 2 Axes>"
      ]
     },
     "metadata": {},
     "output_type": "display_data"
    }
   ],
   "source": [
    "import seaborn as sns\n",
    "plt.figure(figsize=(20,6))\n",
    "sns.heatmap(data=df.pivot_table(index='day_name', columns='period', values='message', aggfunc='count').fillna(0))\n",
    "plt.xticks(rotation=45)\n",
    "plt.show()"
   ]
  },
  {
   "cell_type": "code",
   "execution_count": null,
   "id": "b50bb68f-3642-4c8c-8802-c28a0e4e3375",
   "metadata": {},
   "outputs": [],
   "source": []
  }
 ],
 "metadata": {
  "kernelspec": {
   "display_name": "Python 3 (ipykernel)",
   "language": "python",
   "name": "python3"
  },
  "language_info": {
   "codemirror_mode": {
    "name": "ipython",
    "version": 3
   },
   "file_extension": ".py",
   "mimetype": "text/x-python",
   "name": "python",
   "nbconvert_exporter": "python",
   "pygments_lexer": "ipython3",
   "version": "3.12.3"
  }
 },
 "nbformat": 4,
 "nbformat_minor": 5
}
